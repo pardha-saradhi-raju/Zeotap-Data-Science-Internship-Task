{
 "cells": [
  {
   "cell_type": "markdown",
   "id": "5eaad5ec",
   "metadata": {},
   "source": [
    "# Task 3: Customer Segmentation / Clustering"
   ]
  },
  {
   "cell_type": "markdown",
   "id": "b83293b2",
   "metadata": {},
   "source": [
    "To perform clustering, we need to prepare the dataset by combining customer profile information with aggregated transaction data. This dataset will serve as the input for clustering."
   ]
  },
  {
   "cell_type": "code",
   "execution_count": 3,
   "id": "aa15940c",
   "metadata": {},
   "outputs": [],
   "source": [
    "import pandas as pd\n",
    "\n",
    "# Load datasets\n",
    "customers = pd.read_csv('Customers.csv')\n",
    "transactions = pd.read_csv('Transactions.csv')\n",
    "products = pd.read_csv('Products.csv')\n",
    "\n",
    "# Merge datasets\n",
    "merged_data = pd.merge(transactions, customers, on='CustomerID')\n",
    "merged_data = pd.merge(merged_data, products, on='ProductID')\n"
   ]
  },
  {
   "cell_type": "code",
   "execution_count": 4,
   "id": "0015ce7d",
   "metadata": {},
   "outputs": [
    {
     "name": "stdout",
     "output_type": "stream",
     "text": [
      "Index(['TransactionID', 'CustomerID', 'ProductID', 'TransactionDate',\n",
      "       'Quantity', 'TotalValue', 'Price_x', 'CustomerName', 'Region',\n",
      "       'SignupDate', 'ProductName', 'Category', 'Price'],\n",
      "      dtype='object')\n"
     ]
    }
   ],
   "source": [
    "# Rename the correct Price column for clarity\n",
    "merged_data = merged_data.rename(columns={'Price_y': 'Price'})\n",
    "\n",
    "# Check the updated column names\n",
    "print(merged_data.columns)\n"
   ]
  },
  {
   "cell_type": "code",
   "execution_count": 6,
   "id": "dfde10e5",
   "metadata": {},
   "outputs": [
    {
     "name": "stdout",
     "output_type": "stream",
     "text": [
      "   Quantity  TotalValue       Price\n",
      "0        12     3354.52  278.334000\n",
      "1        10     1862.74  208.920000\n",
      "2        14     2725.38  195.707500\n",
      "3        23     5354.88  240.636250\n",
      "4         7     2034.24  291.603333\n"
     ]
    }
   ],
   "source": [
    "# Aggregate transactional data for each customer\n",
    "customer_features = merged_data.groupby('CustomerID').agg({\n",
    "    'Quantity': 'sum',         # Total quantity purchased\n",
    "    'TotalValue': 'sum',       # Total spending\n",
    "    'Price': 'mean'            # Average price of purchased products\n",
    "}).reset_index()\n",
    "\n",
    "# Merge back with customer profile data\n",
    "customer_data = pd.merge(customers, customer_features, on='CustomerID')\n",
    "\n",
    "# Select relevant features for clustering\n",
    "clustering_data = customer_data[['Quantity', 'TotalValue', 'Price']]\n",
    "\n",
    "# Display the prepared dataset\n",
    "print(clustering_data.head())\n"
   ]
  },
  {
   "cell_type": "markdown",
   "id": "18ac6c2a",
   "metadata": {},
   "source": [
    "Explanation:\n",
    "I first merged all three datasets to form a comprehensive dataset with customer profiles and aggregated transaction details. Then, I selected key features (Quantity, TotalValue, Price) for clustering."
   ]
  },
  {
   "cell_type": "markdown",
   "id": "1e51ec12",
   "metadata": {},
   "source": [
    "## Normalize the Data"
   ]
  },
  {
   "cell_type": "markdown",
   "id": "9ce5aed6",
   "metadata": {},
   "source": [
    "To ensure fair clustering, the data is normalized so that all features have equal weight in the clustering process."
   ]
  },
  {
   "cell_type": "code",
   "execution_count": 7,
   "id": "4793c158",
   "metadata": {},
   "outputs": [
    {
     "name": "stdout",
     "output_type": "stream",
     "text": [
      "[[-0.12203296 -0.06170143  0.09467022]\n",
      " [-0.44800021 -0.87774353 -0.90401592]\n",
      " [ 0.20393428 -0.40585722 -1.09410928]\n",
      " [ 1.67078689  1.03254704 -0.44770193]\n",
      " [-0.93695108 -0.78392861  0.28558127]]\n"
     ]
    }
   ],
   "source": [
    "from sklearn.preprocessing import StandardScaler\n",
    "\n",
    "# Normalize the features\n",
    "scaler = StandardScaler()\n",
    "normalized_data = scaler.fit_transform(clustering_data)\n",
    "\n",
    "# Display normalized data\n",
    "print(normalized_data[:5])\n"
   ]
  },
  {
   "cell_type": "markdown",
   "id": "69330707",
   "metadata": {},
   "source": [
    "Explanation:\n",
    "Normalization scales the features to have a mean of 0 and standard deviation of 1. This is critical because clustering algorithms like K-Means are sensitive to feature magnitudes."
   ]
  },
  {
   "cell_type": "markdown",
   "id": "80756a1c",
   "metadata": {},
   "source": [
    "## Applying Clustering Algorithm"
   ]
  },
  {
   "cell_type": "markdown",
   "id": "62883f22",
   "metadata": {},
   "source": [
    "For clustering, I used the K-Means algorithm. The optimal number of clusters is determined using the Davies-Bouldin Index (DB Index)."
   ]
  },
  {
   "cell_type": "code",
   "execution_count": 8,
   "id": "8f3bac41",
   "metadata": {},
   "outputs": [
    {
     "name": "stderr",
     "output_type": "stream",
     "text": [
      "E:\\Downloads Disk D\\Anaconda\\Lib\\site-packages\\sklearn\\cluster\\_kmeans.py:1412: FutureWarning: The default value of `n_init` will change from 10 to 'auto' in 1.4. Set the value of `n_init` explicitly to suppress the warning\n",
      "  super()._check_params_vs_input(X, default_n_init=10)\n",
      "E:\\Downloads Disk D\\Anaconda\\Lib\\site-packages\\sklearn\\cluster\\_kmeans.py:1436: UserWarning: KMeans is known to have a memory leak on Windows with MKL, when there are less chunks than available threads. You can avoid it by setting the environment variable OMP_NUM_THREADS=1.\n",
      "  warnings.warn(\n",
      "E:\\Downloads Disk D\\Anaconda\\Lib\\site-packages\\sklearn\\cluster\\_kmeans.py:1412: FutureWarning: The default value of `n_init` will change from 10 to 'auto' in 1.4. Set the value of `n_init` explicitly to suppress the warning\n",
      "  super()._check_params_vs_input(X, default_n_init=10)\n",
      "E:\\Downloads Disk D\\Anaconda\\Lib\\site-packages\\sklearn\\cluster\\_kmeans.py:1436: UserWarning: KMeans is known to have a memory leak on Windows with MKL, when there are less chunks than available threads. You can avoid it by setting the environment variable OMP_NUM_THREADS=1.\n",
      "  warnings.warn(\n",
      "E:\\Downloads Disk D\\Anaconda\\Lib\\site-packages\\sklearn\\cluster\\_kmeans.py:1412: FutureWarning: The default value of `n_init` will change from 10 to 'auto' in 1.4. Set the value of `n_init` explicitly to suppress the warning\n",
      "  super()._check_params_vs_input(X, default_n_init=10)\n",
      "E:\\Downloads Disk D\\Anaconda\\Lib\\site-packages\\sklearn\\cluster\\_kmeans.py:1436: UserWarning: KMeans is known to have a memory leak on Windows with MKL, when there are less chunks than available threads. You can avoid it by setting the environment variable OMP_NUM_THREADS=1.\n",
      "  warnings.warn(\n",
      "E:\\Downloads Disk D\\Anaconda\\Lib\\site-packages\\sklearn\\cluster\\_kmeans.py:1412: FutureWarning: The default value of `n_init` will change from 10 to 'auto' in 1.4. Set the value of `n_init` explicitly to suppress the warning\n",
      "  super()._check_params_vs_input(X, default_n_init=10)\n",
      "E:\\Downloads Disk D\\Anaconda\\Lib\\site-packages\\sklearn\\cluster\\_kmeans.py:1436: UserWarning: KMeans is known to have a memory leak on Windows with MKL, when there are less chunks than available threads. You can avoid it by setting the environment variable OMP_NUM_THREADS=1.\n",
      "  warnings.warn(\n",
      "E:\\Downloads Disk D\\Anaconda\\Lib\\site-packages\\sklearn\\cluster\\_kmeans.py:1412: FutureWarning: The default value of `n_init` will change from 10 to 'auto' in 1.4. Set the value of `n_init` explicitly to suppress the warning\n",
      "  super()._check_params_vs_input(X, default_n_init=10)\n",
      "E:\\Downloads Disk D\\Anaconda\\Lib\\site-packages\\sklearn\\cluster\\_kmeans.py:1436: UserWarning: KMeans is known to have a memory leak on Windows with MKL, when there are less chunks than available threads. You can avoid it by setting the environment variable OMP_NUM_THREADS=1.\n",
      "  warnings.warn(\n",
      "E:\\Downloads Disk D\\Anaconda\\Lib\\site-packages\\sklearn\\cluster\\_kmeans.py:1412: FutureWarning: The default value of `n_init` will change from 10 to 'auto' in 1.4. Set the value of `n_init` explicitly to suppress the warning\n",
      "  super()._check_params_vs_input(X, default_n_init=10)\n",
      "E:\\Downloads Disk D\\Anaconda\\Lib\\site-packages\\sklearn\\cluster\\_kmeans.py:1436: UserWarning: KMeans is known to have a memory leak on Windows with MKL, when there are less chunks than available threads. You can avoid it by setting the environment variable OMP_NUM_THREADS=1.\n",
      "  warnings.warn(\n",
      "E:\\Downloads Disk D\\Anaconda\\Lib\\site-packages\\sklearn\\cluster\\_kmeans.py:1412: FutureWarning: The default value of `n_init` will change from 10 to 'auto' in 1.4. Set the value of `n_init` explicitly to suppress the warning\n",
      "  super()._check_params_vs_input(X, default_n_init=10)\n",
      "E:\\Downloads Disk D\\Anaconda\\Lib\\site-packages\\sklearn\\cluster\\_kmeans.py:1436: UserWarning: KMeans is known to have a memory leak on Windows with MKL, when there are less chunks than available threads. You can avoid it by setting the environment variable OMP_NUM_THREADS=1.\n",
      "  warnings.warn(\n",
      "E:\\Downloads Disk D\\Anaconda\\Lib\\site-packages\\sklearn\\cluster\\_kmeans.py:1412: FutureWarning: The default value of `n_init` will change from 10 to 'auto' in 1.4. Set the value of `n_init` explicitly to suppress the warning\n",
      "  super()._check_params_vs_input(X, default_n_init=10)\n",
      "E:\\Downloads Disk D\\Anaconda\\Lib\\site-packages\\sklearn\\cluster\\_kmeans.py:1436: UserWarning: KMeans is known to have a memory leak on Windows with MKL, when there are less chunks than available threads. You can avoid it by setting the environment variable OMP_NUM_THREADS=1.\n",
      "  warnings.warn(\n",
      "E:\\Downloads Disk D\\Anaconda\\Lib\\site-packages\\sklearn\\cluster\\_kmeans.py:1412: FutureWarning: The default value of `n_init` will change from 10 to 'auto' in 1.4. Set the value of `n_init` explicitly to suppress the warning\n",
      "  super()._check_params_vs_input(X, default_n_init=10)\n",
      "E:\\Downloads Disk D\\Anaconda\\Lib\\site-packages\\sklearn\\cluster\\_kmeans.py:1436: UserWarning: KMeans is known to have a memory leak on Windows with MKL, when there are less chunks than available threads. You can avoid it by setting the environment variable OMP_NUM_THREADS=1.\n",
      "  warnings.warn(\n"
     ]
    },
    {
     "name": "stdout",
     "output_type": "stream",
     "text": [
      "Optimal number of clusters: 9\n"
     ]
    },
    {
     "name": "stderr",
     "output_type": "stream",
     "text": [
      "E:\\Downloads Disk D\\Anaconda\\Lib\\site-packages\\sklearn\\cluster\\_kmeans.py:1412: FutureWarning: The default value of `n_init` will change from 10 to 'auto' in 1.4. Set the value of `n_init` explicitly to suppress the warning\n",
      "  super()._check_params_vs_input(X, default_n_init=10)\n",
      "E:\\Downloads Disk D\\Anaconda\\Lib\\site-packages\\sklearn\\cluster\\_kmeans.py:1436: UserWarning: KMeans is known to have a memory leak on Windows with MKL, when there are less chunks than available threads. You can avoid it by setting the environment variable OMP_NUM_THREADS=1.\n",
      "  warnings.warn(\n"
     ]
    }
   ],
   "source": [
    "from sklearn.cluster import KMeans\n",
    "from sklearn.metrics import davies_bouldin_score\n",
    "\n",
    "# Determine the optimal number of clusters using the DB Index\n",
    "db_scores = []\n",
    "for k in range(2, 11):  # Try between 2 and 10 clusters\n",
    "    kmeans = KMeans(n_clusters=k, random_state=42)\n",
    "    kmeans.fit(normalized_data)\n",
    "    labels = kmeans.labels_\n",
    "    db_index = davies_bouldin_score(normalized_data, labels)\n",
    "    db_scores.append((k, db_index))\n",
    "\n",
    "# Find the optimal number of clusters\n",
    "optimal_k = min(db_scores, key=lambda x: x[1])[0]\n",
    "print(f\"Optimal number of clusters: {optimal_k}\")\n",
    "\n",
    "# Perform clustering with the optimal number of clusters\n",
    "kmeans = KMeans(n_clusters=optimal_k, random_state=42)\n",
    "customer_data['Cluster'] = kmeans.fit_predict(normalized_data)\n"
   ]
  },
  {
   "cell_type": "markdown",
   "id": "b3fda83a",
   "metadata": {},
   "source": [
    "Explanation:\n",
    "I used K-Means as the clustering algorithm and evaluated the clustering quality for different numbers of clusters using the Davies-Bouldin Index. The optimal number of clusters corresponds to the lowest DB Index value."
   ]
  },
  {
   "cell_type": "markdown",
   "id": "0d671b78",
   "metadata": {},
   "source": [
    "Clusters were visualized using a 2D scatter plot. To reduce the dimensionality of the data, PCA was applied."
   ]
  },
  {
   "cell_type": "code",
   "execution_count": 9,
   "id": "9e2adbcc",
   "metadata": {},
   "outputs": [
    {
     "data": {
      "image/png": "[encoded data removed]",
      "text/plain": [
       "<Figure size 800x600 with 1 Axes>"
      ]
     },
     "metadata": {},
     "output_type": "display_data"
    }
   ],
   "source": [
    "import matplotlib.pyplot as plt\n",
    "from sklearn.decomposition import PCA\n",
    "\n",
    "# Reduce dimensions for visualization\n",
    "pca = PCA(n_components=2)\n",
    "reduced_data = pca.fit_transform(normalized_data)\n",
    "customer_data['PCA1'] = reduced_data[:, 0]\n",
    "customer_data['PCA2'] = reduced_data[:, 1]\n",
    "\n",
    "# Plot the clusters\n",
    "plt.figure(figsize=(8, 6))\n",
    "for cluster in range(optimal_k):\n",
    "    cluster_data = customer_data[customer_data['Cluster'] == cluster]\n",
    "    plt.scatter(cluster_data['PCA1'], cluster_data['PCA2'], label=f'Cluster {cluster}')\n",
    "\n",
    "plt.title('Customer Segmentation - Clusters Visualization')\n",
    "plt.xlabel('PCA1')\n",
    "plt.ylabel('PCA2')\n",
    "plt.legend()\n",
    "plt.show()\n"
   ]
  },
  {
   "cell_type": "markdown",
   "id": "a221f302",
   "metadata": {},
   "source": [
    "Explanation:\n",
    "I reduced the dimensions of the dataset to 2 using PCA for visualization purposes. Each cluster is plotted with a unique color to show how customers are segmented."
   ]
  },
  {
   "cell_type": "markdown",
   "id": "31abb6a6",
   "metadata": {},
   "source": [
    "## Evaluating Clustering Metrics"
   ]
  },
  {
   "cell_type": "markdown",
   "id": "c76a42af",
   "metadata": {},
   "source": [
    "Apart from the DB Index, additional clustering metrics such as inertia (sum of squared distances to the nearest cluster center) were calculated."
   ]
  },
  {
   "cell_type": "code",
   "execution_count": 10,
   "id": "37aac6bd",
   "metadata": {},
   "outputs": [
    {
     "name": "stdout",
     "output_type": "stream",
     "text": [
      "Inertia: 90.84555008099365\n",
      "Davies-Bouldin Index: 0.8569538613614833\n"
     ]
    }
   ],
   "source": [
    "# Calculate inertia\n",
    "inertia = kmeans.inertia_\n",
    "print(f\"Inertia: {inertia}\")\n",
    "\n",
    "# Calculate DB Index for the final clustering\n",
    "final_db_index = davies_bouldin_score(normalized_data, customer_data['Cluster'])\n",
    "print(f\"Davies-Bouldin Index: {final_db_index}\")\n"
   ]
  },
  {
   "cell_type": "markdown",
   "id": "ed6eb30a",
   "metadata": {},
   "source": [
    "Explanation:\n",
    "Inertia gives a measure of how compact the clusters are, while the Davies-Bouldin Index evaluates cluster separation. These metrics help assess the quality of clustering."
   ]
  },
  {
   "cell_type": "code",
   "execution_count": 12,
   "id": "c8b0757e",
   "metadata": {},
   "outputs": [
    {
     "name": "stdout",
     "output_type": "stream",
     "text": [
      "Clustering results saved successfully.\n"
     ]
    }
   ],
   "source": [
    "# Save clustering results to a CSV file\n",
    "customer_data[['CustomerID', 'Cluster']].to_csv('Doradla_PardhaSaradhiRaju_Clustering.csv', index=False)\n",
    "print(\"Clustering results saved successfully.\")\n"
   ]
  },
  {
   "cell_type": "markdown",
   "id": "d081d579",
   "metadata": {},
   "source": [
    "Explanation:\n",
    "The final dataset, including CustomerID and their respective cluster labels, was saved to a CSV file for submission."
   ]
  },
  {
   "cell_type": "code",
   "execution_count": null,
   "id": "62807af8",
   "metadata": {},
   "outputs": [],
   "source": []
  }
 ],
 "metadata": {
  "kernelspec": {
   "display_name": "Python 3 (ipykernel)",
   "language": "python",
   "name": "python3"
  },
  "language_info": {
   "codemirror_mode": {
    "name": "ipython",
    "version": 3
   },
   "file_extension": ".py",
   "mimetype": "text/x-python",
   "name": "python",
   "nbconvert_exporter": "python",
   "pygments_lexer": "ipython3",
   "version": "3.11.5"
  }
 },
 "nbformat": 4,
 "nbformat_minor": 5
}
