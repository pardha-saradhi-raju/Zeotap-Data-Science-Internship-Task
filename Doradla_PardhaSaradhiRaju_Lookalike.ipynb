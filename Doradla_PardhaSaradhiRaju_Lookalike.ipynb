{
 "cells": [
  {
   "cell_type": "markdown",
   "id": "524e87f7",
   "metadata": {},
   "source": [
    "# Task 2: Lookalike Model"
   ]
  },
  {
   "cell_type": "markdown",
   "id": "d8eec4af",
   "metadata": {},
   "source": [
    "To create a lookalike model, I first combined customer and transaction data. This included customer profiles from Customers.csv and their purchasing behavior from Transactions.csv. Product information was also incorporated to enrich the data."
   ]
  },
  {
   "cell_type": "code",
   "execution_count": 2,
   "id": "3aa08c2f",
   "metadata": {},
   "outputs": [],
   "source": [
    "import pandas as pd\n",
    "\n",
    "# Loading the datasets\n",
    "customers = pd.read_csv('Customers.csv')\n",
    "transactions = pd.read_csv('Transactions.csv')\n",
    "products = pd.read_csv('Products.csv')"
   ]
  },
  {
   "cell_type": "code",
   "execution_count": 3,
   "id": "a60b95f9",
   "metadata": {},
   "outputs": [
    {
     "name": "stdout",
     "output_type": "stream",
     "text": [
      "  ProductID              ProductName     Category   Price\n",
      "0      P001     ActiveWear Biography        Books  169.30\n",
      "1      P002    ActiveWear Smartwatch  Electronics  346.30\n",
      "2      P003  ComfortLiving Biography        Books   44.12\n",
      "3      P004            BookWorld Rug   Home Decor   95.69\n",
      "4      P005          TechPro T-Shirt     Clothing  429.31\n"
     ]
    }
   ],
   "source": [
    "print(products.head())\n"
   ]
  },
  {
   "cell_type": "code",
   "execution_count": 4,
   "id": "e251fc98",
   "metadata": {},
   "outputs": [
    {
     "name": "stdout",
     "output_type": "stream",
     "text": [
      "  TransactionID CustomerID ProductID      TransactionDate  Quantity  \\\n",
      "0        T00001      C0199      P067  2024-08-25 12:38:23         1   \n",
      "1        T00112      C0146      P067  2024-05-27 22:23:54         1   \n",
      "2        T00166      C0127      P067  2024-04-25 07:38:55         1   \n",
      "3        T00272      C0087      P067  2024-03-26 22:55:37         2   \n",
      "4        T00363      C0070      P067  2024-03-21 15:10:10         3   \n",
      "\n",
      "   TotalValue  Price_x                      ProductName     Category  Price_y  \\\n",
      "0      300.68   300.68  ComfortLiving Bluetooth Speaker  Electronics   300.68   \n",
      "1      300.68   300.68  ComfortLiving Bluetooth Speaker  Electronics   300.68   \n",
      "2      300.68   300.68  ComfortLiving Bluetooth Speaker  Electronics   300.68   \n",
      "3      601.36   300.68  ComfortLiving Bluetooth Speaker  Electronics   300.68   \n",
      "4      902.04   300.68  ComfortLiving Bluetooth Speaker  Electronics   300.68   \n",
      "\n",
      "      CustomerName         Region  SignupDate  \n",
      "0   Andrea Jenkins         Europe  2022-12-03  \n",
      "1  Brittany Harvey           Asia  2024-09-04  \n",
      "2  Kathryn Stevens         Europe  2024-04-04  \n",
      "3  Travis Campbell  South America  2024-04-11  \n",
      "4    Timothy Perez         Europe  2022-03-15  \n"
     ]
    }
   ],
   "source": [
    "# Merge datasets to include Price from Products.csv\n",
    "merged_data = pd.merge(transactions, products, on='ProductID', how='left')\n",
    "merged_data = pd.merge(merged_data, customers, on='CustomerID', how='left')\n",
    "\n",
    "print(merged_data.head())\n"
   ]
  },
  {
   "cell_type": "code",
   "execution_count": 6,
   "id": "d04c667b",
   "metadata": {},
   "outputs": [
    {
     "name": "stdout",
     "output_type": "stream",
     "text": [
      "  TransactionID CustomerID ProductID      TransactionDate  Quantity  \\\n",
      "0        T00001      C0199      P067  2024-08-25 12:38:23         1   \n",
      "1        T00112      C0146      P067  2024-05-27 22:23:54         1   \n",
      "2        T00166      C0127      P067  2024-04-25 07:38:55         1   \n",
      "3        T00272      C0087      P067  2024-03-26 22:55:37         2   \n",
      "4        T00363      C0070      P067  2024-03-21 15:10:10         3   \n",
      "\n",
      "   TotalValue  Price_x                      ProductName     Category   Price  \\\n",
      "0      300.68   300.68  ComfortLiving Bluetooth Speaker  Electronics  300.68   \n",
      "1      300.68   300.68  ComfortLiving Bluetooth Speaker  Electronics  300.68   \n",
      "2      300.68   300.68  ComfortLiving Bluetooth Speaker  Electronics  300.68   \n",
      "3      601.36   300.68  ComfortLiving Bluetooth Speaker  Electronics  300.68   \n",
      "4      902.04   300.68  ComfortLiving Bluetooth Speaker  Electronics  300.68   \n",
      "\n",
      "      CustomerName         Region  SignupDate  \n",
      "0   Andrea Jenkins         Europe  2022-12-03  \n",
      "1  Brittany Harvey           Asia  2024-09-04  \n",
      "2  Kathryn Stevens         Europe  2024-04-04  \n",
      "3  Travis Campbell  South America  2024-04-11  \n",
      "4    Timothy Perez         Europe  2022-03-15  \n"
     ]
    }
   ],
   "source": [
    "# Renaming Price_y to Price for clarity\n",
    "merged_data = merged_data.rename(columns={'Price_y': 'Price'})\n",
    "\n",
    "\n",
    "print(merged_data.head())\n"
   ]
  },
  {
   "cell_type": "markdown",
   "id": "933d729d",
   "metadata": {},
   "source": [
    "Now use the updated merged_data to calculate the aggregated features."
   ]
  },
  {
   "cell_type": "code",
   "execution_count": 7,
   "id": "98edb227",
   "metadata": {},
   "outputs": [
    {
     "name": "stdout",
     "output_type": "stream",
     "text": [
      "  CustomerID        CustomerName         Region  SignupDate  Quantity  \\\n",
      "0      C0001    Lawrence Carroll  South America  2022-07-10        12   \n",
      "1      C0002      Elizabeth Lutz           Asia  2022-02-13        10   \n",
      "2      C0003      Michael Rivera  South America  2024-03-07        14   \n",
      "3      C0004  Kathleen Rodriguez  South America  2022-10-09        23   \n",
      "4      C0005         Laura Weber           Asia  2022-08-15         7   \n",
      "\n",
      "   TotalValue       Price  \n",
      "0     3354.52  278.334000  \n",
      "1     1862.74  208.920000  \n",
      "2     2725.38  195.707500  \n",
      "3     5354.88  240.636250  \n",
      "4     2034.24  291.603333  \n"
     ]
    }
   ],
   "source": [
    "# Aggregate transactional data for each customer\n",
    "customer_features = merged_data.groupby('CustomerID').agg({\n",
    "    'Quantity': 'sum',         # Total quantity purchased\n",
    "    'TotalValue': 'sum',       # Total spending\n",
    "    'Price': 'mean'            # Average price of purchased products\n",
    "}).reset_index()\n",
    "\n",
    "# Merge back with customer profile data\n",
    "customer_data = pd.merge(customers, customer_features, on='CustomerID')\n",
    "\n",
    "# Display the final customer_data\n",
    "print(customer_data.head())\n"
   ]
  },
  {
   "cell_type": "markdown",
   "id": "0587b4d7",
   "metadata": {},
   "source": [
    "Explanation:\n",
    "I started by combining transactional and customer data to create a dataset that included:\n",
    "\n",
    "1. Total quantity of items purchased (Quantity).\n",
    "2. Total spending (TotalValue).\n",
    "3. Average price of products purchased (Price).\n",
    "\n",
    "\n",
    "\n",
    "This dataset gives a holistic view of each customer’s behavior and profile, which is essential for similarity calculations."
   ]
  },
  {
   "cell_type": "markdown",
   "id": "3dc93195",
   "metadata": {},
   "source": [
    "## Compute Similarity Scores"
   ]
  },
  {
   "cell_type": "markdown",
   "id": "b323e5ec",
   "metadata": {},
   "source": [
    "I used the cosine similarity metric to compare customers based on their profile and transactional data. This helps identify customers with similar spending patterns, product preferences, and purchasing behavior"
   ]
  },
  {
   "cell_type": "code",
   "execution_count": 8,
   "id": "70c54367",
   "metadata": {},
   "outputs": [
    {
     "name": "stdout",
     "output_type": "stream",
     "text": [
      "CustomerID     C0001     C0002     C0003     C0004     C0005     C0006  \\\n",
      "CustomerID                                                               \n",
      "C0001       1.000000  0.104513 -0.524923 -0.925208  0.909351  0.442395   \n",
      "C0002       0.104513  1.000000  0.791531 -0.464035  0.506433 -0.844066   \n",
      "C0003      -0.524923  0.791531  1.000000  0.172432 -0.124725 -0.994780   \n",
      "C0004      -0.925208 -0.464035  0.172432  1.000000 -0.990272 -0.083333   \n",
      "C0005       0.909351  0.506433 -0.124725 -0.990272  1.000000  0.029596   \n",
      "\n",
      "CustomerID     C0007     C0008     C0009     C0010  ...     C0191     C0192  \\\n",
      "CustomerID                                          ...                       \n",
      "C0001       0.957854 -0.980620  0.885035 -0.268370  ...  0.953552  0.875392   \n",
      "C0002      -0.126391 -0.208586  0.552510  0.929885  ...  0.366172  0.561020   \n",
      "C0003      -0.694381  0.426063 -0.070251  0.960431  ... -0.270712 -0.056387   \n",
      "C0004      -0.786871  0.960972 -0.985116 -0.108724  ... -0.969254 -0.975266   \n",
      "C0005       0.784580 -0.928571  0.998476  0.153760  ...  0.984067  0.995941   \n",
      "\n",
      "CustomerID     C0193     C0194     C0195     C0196     C0197     C0198  \\\n",
      "CustomerID                                                               \n",
      "C0001       0.590772 -0.928283 -0.999064  0.431472  0.322620  0.656770   \n",
      "C0002       0.854971  0.076219 -0.068506 -0.850966  0.974669  0.812601   \n",
      "C0003       0.367126  0.631312  0.555466 -0.992705  0.635507  0.290662   \n",
      "C0004      -0.851778  0.765946  0.913077 -0.062481 -0.650336 -0.892231   \n",
      "C0005       0.861752 -0.786650 -0.892508  0.021657  0.683538  0.902453   \n",
      "\n",
      "CustomerID     C0199     C0200  \n",
      "CustomerID                      \n",
      "C0001       0.543288 -0.470679  \n",
      "C0002       0.889215 -0.926208  \n",
      "C0003       0.427997 -0.503792  \n",
      "C0004      -0.806156  0.758721  \n",
      "C0005       0.843168 -0.794058  \n",
      "\n",
      "[5 rows x 199 columns]\n"
     ]
    }
   ],
   "source": [
    "from sklearn.preprocessing import StandardScaler\n",
    "from sklearn.metrics.pairwise import cosine_similarity\n",
    "\n",
    "# Select features for similarity calculation\n",
    "features = ['Quantity', 'TotalValue', 'Price']\n",
    "scaler = StandardScaler()\n",
    "scaled_features = scaler.fit_transform(customer_data[features])\n",
    "\n",
    "# Compute cosine similarity\n",
    "similarity_matrix = cosine_similarity(scaled_features)\n",
    "\n",
    "# Convert similarity matrix to a DataFrame\n",
    "similarity_df = pd.DataFrame(similarity_matrix, index=customer_data['CustomerID'], columns=customer_data['CustomerID'])\n",
    "\n",
    "# Display similarity matrix for reference\n",
    "print(similarity_df.head())\n"
   ]
  },
  {
   "cell_type": "markdown",
   "id": "eaccef70",
   "metadata": {},
   "source": [
    "Explanation:\n",
    "To calculate similarity between customers:\n",
    "\n",
    "1. I selected Quantity, TotalValue, and Price as the key features.\n",
    "2. These features were scaled using StandardScaler to ensure uniformity in magnitude.\n",
    "3. I applied the cosine_similarity function to measure the similarity between customers in the feature space."
   ]
  },
  {
   "cell_type": "markdown",
   "id": "3e598332",
   "metadata": {},
   "source": [
    "## To Find Top 3 Similar Customers"
   ]
  },
  {
   "cell_type": "markdown",
   "id": "685054bb",
   "metadata": {},
   "source": [
    "For each customer, I identified the top 3 most similar customers based on the highest similarity scores (excluding the customer itself)."
   ]
  },
  {
   "cell_type": "code",
   "execution_count": 9,
   "id": "07f3792f",
   "metadata": {},
   "outputs": [
    {
     "name": "stdout",
     "output_type": "stream",
     "text": [
      "{'C0001': [('C0103', 0.9975729385618538), ('C0092', 0.9968787968825864), ('C0135', 0.9927364238882178)], 'C0002': [('C0029', 0.9998543931340029), ('C0077', 0.9961038168882547), ('C0157', 0.9954784900159904)], 'C0003': [('C0111', 0.9984874468302141), ('C0190', 0.9966561574371822), ('C0038', 0.9901332836738033)], 'C0004': [('C0165', 0.9983897071764074), ('C0162', 0.9980867096016258), ('C0075', 0.996932345616167)], 'C0005': [('C0167', 0.9999721868436701), ('C0020', 0.99971426883456), ('C0128', 0.9987615592886807)], 'C0006': [('C0168', 0.9976122332196319), ('C0196', 0.9950250564515252), ('C0187', 0.9947524750205508)], 'C0007': [('C0125', 0.9998486580402707), ('C0089', 0.99834375759003), ('C0085', 0.9960335186380587)], 'C0008': [('C0084', 0.9960866913262758), ('C0113', 0.9958170325568012), ('C0017', 0.9931732089853939)], 'C0009': [('C0130', 0.9999651017117012), ('C0128', 0.9985963548763069), ('C0192', 0.9985908489461927)], 'C0010': [('C0176', 0.9994511608148322), ('C0055', 0.9938405529191887), ('C0174', 0.9927444551206617)], 'C0011': [('C0023', 0.9991440715038482), ('C0139', 0.986516222171265), ('C0100', 0.9850016770913713)], 'C0012': [('C0101', 0.9999587274161242), ('C0093', 0.9996220951792167), ('C0153', 0.9994774664125199)], 'C0013': [('C0021', 0.9996872905926021), ('C0141', 0.9977202433858624), ('C0059', 0.9974582304694569)], 'C0014': [('C0097', 0.9987194918246622), ('C0043', 0.9970286568742919), ('C0032', 0.9962680059155484)], 'C0015': [('C0058', 0.9988538808142925), ('C0186', 0.9942941310767258), ('C0131', 0.9925119270458043)], 'C0016': [('C0040', 0.9996938077843687), ('C0107', 0.998853319148621), ('C0066', 0.9979863451056683)], 'C0017': [('C0113', 0.9996650162383116), ('C0084', 0.9947513763012199), ('C0008', 0.9931732089853939)], 'C0018': [('C0041', 0.9939468680584729), ('C0068', 0.9928505306919448), ('C0004', 0.9899798786769836)], 'C0019': [('C0166', 0.9972891718322159), ('C0031', 0.9942266796584924), ('C0088', 0.988374423934766)], 'C0020': [('C0005', 0.99971426883456), ('C0128', 0.9995779165091033), ('C0167', 0.9995081896622053)]}\n"
     ]
    }
   ],
   "source": [
    "# Function to get top 3 similar customers\n",
    "def get_top_similar_customers(cust_id, similarity_df):\n",
    "    similar_customers = similarity_df.loc[cust_id].sort_values(ascending=False).iloc[1:4]\n",
    "    return list(similar_customers.index), list(similar_customers.values)\n",
    "\n",
    "# Generate Lookalike data for first 20 customers\n",
    "lookalike_results = {}\n",
    "for cust_id in customers['CustomerID'][:20]:\n",
    "    similar_ids, scores = get_top_similar_customers(cust_id, similarity_df)\n",
    "    lookalike_results[cust_id] = list(zip(similar_ids, scores))\n",
    "\n",
    "# Display results\n",
    "print(lookalike_results)\n"
   ]
  },
  {
   "cell_type": "markdown",
   "id": "b95875e5",
   "metadata": {},
   "source": [
    "Explanation:\n",
    "For each customer:\n",
    "\n",
    "1. I sorted the similarity scores in descending order.\n",
    "2. Excluded the customer itself (highest score = 1.0).\n",
    "3. Selected the top 3 customers with the highest similarity scores."
   ]
  },
  {
   "cell_type": "markdown",
   "id": "03726519",
   "metadata": {},
   "source": [
    "The results were saved in a CSV file, with the format: Map<cust_id, List<cust_id, score>>"
   ]
  },
  {
   "cell_type": "code",
   "execution_count": 11,
   "id": "f742f0d8",
   "metadata": {},
   "outputs": [
    {
     "name": "stdout",
     "output_type": "stream",
     "text": [
      "  CustomerID                                         Lookalikes\n",
      "0      C0001  [(C0103, 0.9975729385618538), (C0092, 0.996878...\n",
      "1      C0002  [(C0029, 0.9998543931340029), (C0077, 0.996103...\n",
      "2      C0003  [(C0111, 0.9984874468302141), (C0190, 0.996656...\n",
      "3      C0004  [(C0165, 0.9983897071764074), (C0162, 0.998086...\n",
      "4      C0005  [(C0167, 0.9999721868436701), (C0020, 0.999714...\n"
     ]
    }
   ],
   "source": [
    "# Convert lookalike results into a DataFrame\n",
    "lookalike_df = pd.DataFrame([\n",
    "    {'CustomerID': cust_id, 'Lookalikes': lookalikes}\n",
    "    for cust_id, lookalikes in lookalike_results.items()\n",
    "])\n",
    "\n",
    "# Save to CSV\n",
    "lookalike_df.to_csv('Doradla_PardhaSaradhiRaju_Lookalike.csv', index=False)\n",
    "\n",
    "# Display saved DataFrame\n",
    "print(lookalike_df.head())\n"
   ]
  },
  {
   "cell_type": "markdown",
   "id": "1439d900",
   "metadata": {},
   "source": [
    "Explanation:\n",
    "The final lookalike results were saved in a structured format with:\n",
    "\n",
    "1. CustomerID: The ID of the customer for whom lookalikes are generated.\n",
    "2. Lookalikes: A list of tuples, each containing the ID of a similar customer and their similarity score.\n",
    "3. This file (FirstName_LastName_Lookalike.csv) meets the deliverable requirements."
   ]
  },
  {
   "cell_type": "markdown",
   "id": "b663921a",
   "metadata": {},
   "source": [
    "# Steps Followed:\n",
    "\n",
    "1. Data Preparation: Combined customer, transaction, and product data to create a comprehensive dataset with key features like total spending, quantity purchased, and average price.\n",
    "2. Similarity Computation: Scaled the features and used cosine similarity to measure similarity between customers.\n",
    "3. Top 3 Recommendations: For each customer, identified the top 3 most similar customers based on similarity scores.\n",
    "4. Results: Generated and saved recommendations for the first 20 customers as a CSV file"
   ]
  },
  {
   "cell_type": "code",
   "execution_count": null,
   "id": "72f9b314",
   "metadata": {},
   "outputs": [],
   "source": []
  }
 ],
 "metadata": {
  "kernelspec": {
   "display_name": "Python 3 (ipykernel)",
   "language": "python",
   "name": "python3"
  },
  "language_info": {
   "codemirror_mode": {
    "name": "ipython",
    "version": 3
   },
   "file_extension": ".py",
   "mimetype": "text/x-python",
   "name": "python",
   "nbconvert_exporter": "python",
   "pygments_lexer": "ipython3",
   "version": "3.11.5"
  }
 },
 "nbformat": 4,
 "nbformat_minor": 5
}
